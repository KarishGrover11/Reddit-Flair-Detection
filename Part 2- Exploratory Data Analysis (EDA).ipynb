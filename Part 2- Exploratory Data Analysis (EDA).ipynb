{
 "cells": [
  {
   "cell_type": "markdown",
   "metadata": {},
   "source": [
    "# PART 2- Exploratory Data Analysis"
   ]
  },
  {
   "cell_type": "markdown",
   "metadata": {},
   "source": [
    "1. The provided notebook performs Exploratory Data Analysis(EDA) on the data collected in part 1 from 'r/india' subreddit.\n",
    "2. Various methods of performing EDA have been used."
   ]
  },
  {
   "cell_type": "markdown",
   "metadata": {},
   "source": [
    "## 2.1- Importing the libraries used for performing EDA\n",
    "The following libraries were used to perform EDA on the acquired data set :- "
   ]
  },
  {
   "cell_type": "code",
   "execution_count": 40,
   "metadata": {},
   "outputs": [],
   "source": [
    "import praw # Python Reddit API Wrapper\n",
    "import pandas as pd\n",
    "import csv # Writing and Reading the acquired data from Reddit\n",
    "import os\n",
    "import matplotlib.pyplot as plt #Visual Representation of Data\n",
    "import seaborn as sns #Visual Representation of Data"
   ]
  },
  {
   "cell_type": "markdown",
   "metadata": {},
   "source": [
    "## 2.2- Aquiring Data from Reddit ( Part 1 ) \n",
    "This is one of the most important tasks in EDA. This is basically a repetition of Part 1. The Data from Reddit is written to a CSV file which is later loaded from that CSV into the Pandas Data Frame."
   ]
  },
  {
   "cell_type": "code",
   "execution_count": 41,
   "metadata": {},
   "outputs": [],
   "source": [
    "\"\"\"The below code extracts the vital credentials from a file consisting of environment variables (.env)\n",
    "It uses the dotenv library to access and extract the environment variables. This step was carried out as an\n",
    "immediate precaution to prevent the misuse of credentials. As a result those remain hidden\"\"\"\n",
    "\n",
    "os.chdir('/Users/varishgrover/desktop')#changing the working directory to access the .env file\n",
    "from dotenv import load_dotenv\n",
    "load_dotenv()\n",
    "#Extracting the protected credentials for creating a reddit object\n",
    "CLIENT_ID= os.getenv(\"CLIENT_ID\")\n",
    "CLIENT_SECRET= os.getenv(\"CLIENT_SECRET\")\n",
    "USER_AGENT= os.getenv(\"USER_AGENT\")\n",
    "USER_NAME= os.getenv(\"USER_NAME\")\n",
    "PASSWORD= os.getenv(\"PASSWORD\")"
   ]
  },
  {
   "cell_type": "code",
   "execution_count": 42,
   "metadata": {},
   "outputs": [],
   "source": [
    "\"\"\"Creating a Reddit object which will be later used to access the data from the reddit website\"\"\"\n",
    "redditObject= praw.Reddit(client_id= CLIENT_ID,client_secret=CLIENT_SECRET, user_agent=USER_AGENT,\n",
    "user_name=USER_NAME,password=PASSWORD)"
   ]
  },
  {
   "cell_type": "code",
   "execution_count": 47,
   "metadata": {},
   "outputs": [],
   "source": [
    "\"\"\"Creating a Subreddit object which is specified in the problem statement as r/india. Thus r/india is used \n",
    "for initialisation\"\"\"\n",
    "subredditObject= redditObject.subreddit(\"india\")  #extracting data from subreddit --> r/india\n",
    "\n",
    "newSubredditObject=subredditObject.new(limit=100)\n",
    "#extracting 500 latest entries from the \"new\" section in subreddits. This limit was chosen by me and can be \n",
    "#modified easily"
   ]
  },
  {
   "cell_type": "code",
   "execution_count": 48,
   "metadata": {},
   "outputs": [],
   "source": [
    "os.chdir('/Users/varishgrover/Desktop') # Change the working directory\n",
    "with open('karish.csv','w',newline='') as f:\n",
    "    myWriter=csv.writer(f)\n",
    "    myWriter.writerow(['TITLE','URL','ID','AUTHOR','Num Comments','Ups','Downs','Link Flair Text','Link Flair Text Color','Self','Upvote Ratio'])\n",
    "    for i in newSubredditObject:\n",
    "        myWriter.writerow([i.title,i.url,i.id,i.author,i.num_comments,i.ups,i.downs,i.link_flair_text,i.link_flair_text_color,i.is_self,i.upvote_ratio])"
   ]
  },
  {
   "cell_type": "markdown",
   "metadata": {},
   "source": [
    "## 2.3- Loading into the Pandas Data Frame\n",
    "Reading the created CSV file to see the data written. This code block prints that data in the form of a data frame table using the pandas library."
   ]
  },
  {
   "cell_type": "code",
   "execution_count": 49,
   "metadata": {},
   "outputs": [
    {
     "data": {
      "text/html": [
       "<div>\n",
       "<style scoped>\n",
       "    .dataframe tbody tr th:only-of-type {\n",
       "        vertical-align: middle;\n",
       "    }\n",
       "\n",
       "    .dataframe tbody tr th {\n",
       "        vertical-align: top;\n",
       "    }\n",
       "\n",
       "    .dataframe thead th {\n",
       "        text-align: right;\n",
       "    }\n",
       "</style>\n",
       "<table border=\"1\" class=\"dataframe\">\n",
       "  <thead>\n",
       "    <tr style=\"text-align: right;\">\n",
       "      <th></th>\n",
       "      <th>TITLE</th>\n",
       "      <th>URL</th>\n",
       "      <th>ID</th>\n",
       "      <th>AUTHOR</th>\n",
       "      <th>Num Comments</th>\n",
       "      <th>Ups</th>\n",
       "      <th>Downs</th>\n",
       "      <th>Link Flair Text</th>\n",
       "      <th>Link Flair Text Color</th>\n",
       "      <th>Self</th>\n",
       "      <th>Upvote Ratio</th>\n",
       "    </tr>\n",
       "  </thead>\n",
       "  <tbody>\n",
       "    <tr>\n",
       "      <th>0</th>\n",
       "      <td>Kashmiri terrorist got away 25 yrs ago, caught...</td>\n",
       "      <td>https://www.hindustantimes.com/india-news/kash...</td>\n",
       "      <td>g2yw0s</td>\n",
       "      <td>worriedpast</td>\n",
       "      <td>0</td>\n",
       "      <td>1</td>\n",
       "      <td>0</td>\n",
       "      <td>Non-Political</td>\n",
       "      <td>dark</td>\n",
       "      <td>False</td>\n",
       "      <td>1.00</td>\n",
       "    </tr>\n",
       "    <tr>\n",
       "      <th>1</th>\n",
       "      <td>Looks like Arvind, sounds like Modi</td>\n",
       "      <td>https://m.telegraphindia.com/india/looks-like-...</td>\n",
       "      <td>g2yv5s</td>\n",
       "      <td>azemda</td>\n",
       "      <td>0</td>\n",
       "      <td>3</td>\n",
       "      <td>0</td>\n",
       "      <td>Politics</td>\n",
       "      <td>dark</td>\n",
       "      <td>False</td>\n",
       "      <td>1.00</td>\n",
       "    </tr>\n",
       "    <tr>\n",
       "      <th>2</th>\n",
       "      <td>Coronavirus | its official no IPL this summer</td>\n",
       "      <td>https://newsnblogs.com/coronavirus-its-officia...</td>\n",
       "      <td>g2yv2l</td>\n",
       "      <td>KeeshaRuffing</td>\n",
       "      <td>0</td>\n",
       "      <td>1</td>\n",
       "      <td>0</td>\n",
       "      <td>Sports</td>\n",
       "      <td>dark</td>\n",
       "      <td>False</td>\n",
       "      <td>0.67</td>\n",
       "    </tr>\n",
       "    <tr>\n",
       "      <th>3</th>\n",
       "      <td>Expect 100 Covid-19 cases a day in Ahmedabad: ...</td>\n",
       "      <td>https://timesofindia.indiatimes.com/city/ahmed...</td>\n",
       "      <td>g2yp94</td>\n",
       "      <td>ReallyRedditLover</td>\n",
       "      <td>0</td>\n",
       "      <td>4</td>\n",
       "      <td>0</td>\n",
       "      <td>Coronavirus</td>\n",
       "      <td>dark</td>\n",
       "      <td>False</td>\n",
       "      <td>1.00</td>\n",
       "    </tr>\n",
       "    <tr>\n",
       "      <th>4</th>\n",
       "      <td>Gujarat: Industry to resume work on April 20 |...</td>\n",
       "      <td>https://timesofindia.indiatimes.com/city/ahmed...</td>\n",
       "      <td>g2yor4</td>\n",
       "      <td>ReallyRedditLover</td>\n",
       "      <td>0</td>\n",
       "      <td>2</td>\n",
       "      <td>0</td>\n",
       "      <td>Coronavirus</td>\n",
       "      <td>dark</td>\n",
       "      <td>False</td>\n",
       "      <td>1.00</td>\n",
       "    </tr>\n",
       "  </tbody>\n",
       "</table>\n",
       "</div>"
      ],
      "text/plain": [
       "                                               TITLE  \\\n",
       "0  Kashmiri terrorist got away 25 yrs ago, caught...   \n",
       "1                Looks like Arvind, sounds like Modi   \n",
       "2      Coronavirus | its official no IPL this summer   \n",
       "3  Expect 100 Covid-19 cases a day in Ahmedabad: ...   \n",
       "4  Gujarat: Industry to resume work on April 20 |...   \n",
       "\n",
       "                                                 URL      ID  \\\n",
       "0  https://www.hindustantimes.com/india-news/kash...  g2yw0s   \n",
       "1  https://m.telegraphindia.com/india/looks-like-...  g2yv5s   \n",
       "2  https://newsnblogs.com/coronavirus-its-officia...  g2yv2l   \n",
       "3  https://timesofindia.indiatimes.com/city/ahmed...  g2yp94   \n",
       "4  https://timesofindia.indiatimes.com/city/ahmed...  g2yor4   \n",
       "\n",
       "              AUTHOR  Num Comments  Ups  Downs Link Flair Text  \\\n",
       "0        worriedpast             0    1      0   Non-Political   \n",
       "1             azemda             0    3      0        Politics   \n",
       "2      KeeshaRuffing             0    1      0          Sports   \n",
       "3  ReallyRedditLover             0    4      0     Coronavirus   \n",
       "4  ReallyRedditLover             0    2      0     Coronavirus   \n",
       "\n",
       "  Link Flair Text Color   Self  Upvote Ratio  \n",
       "0                  dark  False          1.00  \n",
       "1                  dark  False          1.00  \n",
       "2                  dark  False          0.67  \n",
       "3                  dark  False          1.00  \n",
       "4                  dark  False          1.00  "
      ]
     },
     "execution_count": 49,
     "metadata": {},
     "output_type": "execute_result"
    }
   ],
   "source": [
    "work=pd.read_csv('karish.csv')\n",
    "work.head()\n",
    "#TOP 5 ENTRIES IN THE CSV DATA-SET"
   ]
  },
  {
   "cell_type": "code",
   "execution_count": 50,
   "metadata": {
    "scrolled": true
   },
   "outputs": [
    {
     "data": {
      "text/html": [
       "<div>\n",
       "<style scoped>\n",
       "    .dataframe tbody tr th:only-of-type {\n",
       "        vertical-align: middle;\n",
       "    }\n",
       "\n",
       "    .dataframe tbody tr th {\n",
       "        vertical-align: top;\n",
       "    }\n",
       "\n",
       "    .dataframe thead th {\n",
       "        text-align: right;\n",
       "    }\n",
       "</style>\n",
       "<table border=\"1\" class=\"dataframe\">\n",
       "  <thead>\n",
       "    <tr style=\"text-align: right;\">\n",
       "      <th></th>\n",
       "      <th>TITLE</th>\n",
       "      <th>URL</th>\n",
       "      <th>ID</th>\n",
       "      <th>AUTHOR</th>\n",
       "      <th>Num Comments</th>\n",
       "      <th>Ups</th>\n",
       "      <th>Downs</th>\n",
       "      <th>Link Flair Text</th>\n",
       "      <th>Link Flair Text Color</th>\n",
       "      <th>Self</th>\n",
       "      <th>Upvote Ratio</th>\n",
       "    </tr>\n",
       "  </thead>\n",
       "  <tbody>\n",
       "    <tr>\n",
       "      <th>95</th>\n",
       "      <td>Random Daily Discussion Thread - April 17, 202...</td>\n",
       "      <td>https://www.reddit.com/r/india/comments/g2ucgt...</td>\n",
       "      <td>g2ucgt</td>\n",
       "      <td>oxythebot</td>\n",
       "      <td>16</td>\n",
       "      <td>6</td>\n",
       "      <td>0</td>\n",
       "      <td>Scheduled</td>\n",
       "      <td>dark</td>\n",
       "      <td>True</td>\n",
       "      <td>0.82</td>\n",
       "    </tr>\n",
       "    <tr>\n",
       "      <th>96</th>\n",
       "      <td>Uttar Pradesh becomes first State in the count...</td>\n",
       "      <td>http://newsonair.com/News?title=Uttar-Pradesh-...</td>\n",
       "      <td>g2ua1f</td>\n",
       "      <td>muhammad_sitaram</td>\n",
       "      <td>3</td>\n",
       "      <td>45</td>\n",
       "      <td>0</td>\n",
       "      <td>Coronavirus</td>\n",
       "      <td>dark</td>\n",
       "      <td>False</td>\n",
       "      <td>0.89</td>\n",
       "    </tr>\n",
       "    <tr>\n",
       "      <th>97</th>\n",
       "      <td>The heartbreaking last texts of an Indian hosp...</td>\n",
       "      <td>https://www.reddit.com/r/india/comments/g2u4e1...</td>\n",
       "      <td>g2u4e1</td>\n",
       "      <td>Lister971191</td>\n",
       "      <td>1</td>\n",
       "      <td>15</td>\n",
       "      <td>0</td>\n",
       "      <td>Coronavirus</td>\n",
       "      <td>dark</td>\n",
       "      <td>True</td>\n",
       "      <td>0.86</td>\n",
       "    </tr>\n",
       "    <tr>\n",
       "      <th>98</th>\n",
       "      <td>Rich people brought COVID-19 to State: Tamil N...</td>\n",
       "      <td>https://www.thehindu.com/news/national/tamil-n...</td>\n",
       "      <td>g2u1uc</td>\n",
       "      <td>bookshearer</td>\n",
       "      <td>2</td>\n",
       "      <td>11</td>\n",
       "      <td>0</td>\n",
       "      <td>Coronavirus</td>\n",
       "      <td>dark</td>\n",
       "      <td>False</td>\n",
       "      <td>0.92</td>\n",
       "    </tr>\n",
       "    <tr>\n",
       "      <th>99</th>\n",
       "      <td>‘CATastrophe’ averted as India court rules on ...</td>\n",
       "      <td>https://gulfnews.com/world/asia/india/catastro...</td>\n",
       "      <td>g2ty1p</td>\n",
       "      <td>Lister971191</td>\n",
       "      <td>0</td>\n",
       "      <td>8</td>\n",
       "      <td>0</td>\n",
       "      <td>Coronavirus</td>\n",
       "      <td>dark</td>\n",
       "      <td>False</td>\n",
       "      <td>0.84</td>\n",
       "    </tr>\n",
       "  </tbody>\n",
       "</table>\n",
       "</div>"
      ],
      "text/plain": [
       "                                                TITLE  \\\n",
       "95  Random Daily Discussion Thread - April 17, 202...   \n",
       "96  Uttar Pradesh becomes first State in the count...   \n",
       "97  The heartbreaking last texts of an Indian hosp...   \n",
       "98  Rich people brought COVID-19 to State: Tamil N...   \n",
       "99  ‘CATastrophe’ averted as India court rules on ...   \n",
       "\n",
       "                                                  URL      ID  \\\n",
       "95  https://www.reddit.com/r/india/comments/g2ucgt...  g2ucgt   \n",
       "96  http://newsonair.com/News?title=Uttar-Pradesh-...  g2ua1f   \n",
       "97  https://www.reddit.com/r/india/comments/g2u4e1...  g2u4e1   \n",
       "98  https://www.thehindu.com/news/national/tamil-n...  g2u1uc   \n",
       "99  https://gulfnews.com/world/asia/india/catastro...  g2ty1p   \n",
       "\n",
       "              AUTHOR  Num Comments  Ups  Downs Link Flair Text  \\\n",
       "95         oxythebot            16    6      0       Scheduled   \n",
       "96  muhammad_sitaram             3   45      0     Coronavirus   \n",
       "97      Lister971191             1   15      0     Coronavirus   \n",
       "98       bookshearer             2   11      0     Coronavirus   \n",
       "99      Lister971191             0    8      0     Coronavirus   \n",
       "\n",
       "   Link Flair Text Color   Self  Upvote Ratio  \n",
       "95                  dark   True          0.82  \n",
       "96                  dark  False          0.89  \n",
       "97                  dark   True          0.86  \n",
       "98                  dark  False          0.92  \n",
       "99                  dark  False          0.84  "
      ]
     },
     "execution_count": 50,
     "metadata": {},
     "output_type": "execute_result"
    }
   ],
   "source": [
    "work=pd.read_csv('karish.csv')\n",
    "work.tail()\n",
    "#LAST 5 ENTRIES IN THE CSV DATA-SET"
   ]
  },
  {
   "cell_type": "markdown",
   "metadata": {},
   "source": [
    "## 2.3- Data Types\n",
    "1. The data types of all the parameters are outputted using the following code block.\n",
    "2. This is important as it gives a clear distinction between numerical and non-numerical variables\n",
    "3. This helps the user to understand which factors require a statistical analysis and which dont."
   ]
  },
  {
   "cell_type": "code",
   "execution_count": 51,
   "metadata": {},
   "outputs": [
    {
     "data": {
      "text/plain": [
       "TITLE                     object\n",
       "URL                       object\n",
       "ID                        object\n",
       "AUTHOR                    object\n",
       "Num Comments               int64\n",
       "Ups                        int64\n",
       "Downs                      int64\n",
       "Link Flair Text           object\n",
       "Link Flair Text Color     object\n",
       "Self                        bool\n",
       "Upvote Ratio             float64\n",
       "dtype: object"
      ]
     },
     "execution_count": 51,
     "metadata": {},
     "output_type": "execute_result"
    }
   ],
   "source": [
    "work.dtypes\n",
    "# int64- Integers\n",
    "# float64- Floating point numbers\n",
    "# bool- Boolean Value - True or False\n",
    "# object- Object"
   ]
  },
  {
   "cell_type": "markdown",
   "metadata": {},
   "source": [
    "## 2.4- A Few Aggregates\n",
    "\n",
    "1. This part deals only with the analysis of numerical variables from among the collected data.\n",
    "\n",
    "2. The AIM of this part is to calculate a few aggregates.\n",
    "\n",
    "3. This part brings forth several characteristics about the collected data. A brief analysis can be presented as:-\n",
    "\n",
    "      a) We can find the mean number of comments, up votes , down votes and upvote ratio. The mean of all these numerical quantities would give an insight on the usual trend\n",
    "      \n",
    "      b) We can find out the minimum and maximum value of these parameters\n",
    "      \n",
    "      c) We can even find out the total count or the number of entries in the last 60 entries which have data avaiable corresponding to a particular parameter\n",
    "\n",
    "\n",
    "4. This step is important as it reveals various trends among the data at a single glance. \n",
    "\n",
    "5. Tabular representation of such analysis is quite helpful."
   ]
  },
  {
   "cell_type": "code",
   "execution_count": 52,
   "metadata": {
    "scrolled": true
   },
   "outputs": [
    {
     "data": {
      "text/html": [
       "<div>\n",
       "<style scoped>\n",
       "    .dataframe tbody tr th:only-of-type {\n",
       "        vertical-align: middle;\n",
       "    }\n",
       "\n",
       "    .dataframe tbody tr th {\n",
       "        vertical-align: top;\n",
       "    }\n",
       "\n",
       "    .dataframe thead th {\n",
       "        text-align: right;\n",
       "    }\n",
       "</style>\n",
       "<table border=\"1\" class=\"dataframe\">\n",
       "  <thead>\n",
       "    <tr style=\"text-align: right;\">\n",
       "      <th></th>\n",
       "      <th>Num Comments</th>\n",
       "      <th>Ups</th>\n",
       "      <th>Downs</th>\n",
       "      <th>Upvote Ratio</th>\n",
       "    </tr>\n",
       "  </thead>\n",
       "  <tbody>\n",
       "    <tr>\n",
       "      <th>count</th>\n",
       "      <td>100.000000</td>\n",
       "      <td>100.000000</td>\n",
       "      <td>100.0</td>\n",
       "      <td>100.00000</td>\n",
       "    </tr>\n",
       "    <tr>\n",
       "      <th>mean</th>\n",
       "      <td>4.990000</td>\n",
       "      <td>25.850000</td>\n",
       "      <td>0.0</td>\n",
       "      <td>0.85510</td>\n",
       "    </tr>\n",
       "    <tr>\n",
       "      <th>std</th>\n",
       "      <td>8.768049</td>\n",
       "      <td>43.609232</td>\n",
       "      <td>0.0</td>\n",
       "      <td>0.16052</td>\n",
       "    </tr>\n",
       "    <tr>\n",
       "      <th>min</th>\n",
       "      <td>0.000000</td>\n",
       "      <td>0.000000</td>\n",
       "      <td>0.0</td>\n",
       "      <td>0.19000</td>\n",
       "    </tr>\n",
       "    <tr>\n",
       "      <th>25%</th>\n",
       "      <td>0.000000</td>\n",
       "      <td>5.000000</td>\n",
       "      <td>0.0</td>\n",
       "      <td>0.82000</td>\n",
       "    </tr>\n",
       "    <tr>\n",
       "      <th>50%</th>\n",
       "      <td>1.000000</td>\n",
       "      <td>10.000000</td>\n",
       "      <td>0.0</td>\n",
       "      <td>0.90000</td>\n",
       "    </tr>\n",
       "    <tr>\n",
       "      <th>75%</th>\n",
       "      <td>6.000000</td>\n",
       "      <td>25.500000</td>\n",
       "      <td>0.0</td>\n",
       "      <td>0.98000</td>\n",
       "    </tr>\n",
       "    <tr>\n",
       "      <th>max</th>\n",
       "      <td>46.000000</td>\n",
       "      <td>278.000000</td>\n",
       "      <td>0.0</td>\n",
       "      <td>1.00000</td>\n",
       "    </tr>\n",
       "  </tbody>\n",
       "</table>\n",
       "</div>"
      ],
      "text/plain": [
       "       Num Comments         Ups  Downs  Upvote Ratio\n",
       "count    100.000000  100.000000  100.0     100.00000\n",
       "mean       4.990000   25.850000    0.0       0.85510\n",
       "std        8.768049   43.609232    0.0       0.16052\n",
       "min        0.000000    0.000000    0.0       0.19000\n",
       "25%        0.000000    5.000000    0.0       0.82000\n",
       "50%        1.000000   10.000000    0.0       0.90000\n",
       "75%        6.000000   25.500000    0.0       0.98000\n",
       "max       46.000000  278.000000    0.0       1.00000"
      ]
     },
     "execution_count": 52,
     "metadata": {},
     "output_type": "execute_result"
    }
   ],
   "source": [
    "work.describe() #Using the data that was collected in the Part 1 to perform EDA"
   ]
  },
  {
   "cell_type": "markdown",
   "metadata": {},
   "source": [
    "## 2.5- Dropping the Null or Missing Values\n",
    "\n",
    "It is quite possible that a given entry does not have data corresponding to a particular paramter or the data is present but the data is null. It is quite irrelevant to have such null or missing data in out data set. Hence those are dropped very easily. When a few values have missing data, from a data set consisting of many elements , it is convenient to remove the few entries for a better comparision of the remaining entries.\n",
    "\n",
    "Instead of removing these values , some analytics also prefer to replace the null values with the overall mean but however , here the null values have been removed."
   ]
  },
  {
   "cell_type": "code",
   "execution_count": 53,
   "metadata": {
    "scrolled": true
   },
   "outputs": [
    {
     "name": "stdout",
     "output_type": "stream",
     "text": [
      "TITLE                     0\n",
      "URL                       0\n",
      "ID                        0\n",
      "AUTHOR                    0\n",
      "Num Comments              0\n",
      "Ups                       0\n",
      "Downs                     0\n",
      "Link Flair Text          10\n",
      "Link Flair Text Color     0\n",
      "Self                      0\n",
      "Upvote Ratio              0\n",
      "dtype: int64\n"
     ]
    }
   ],
   "source": [
    "#FINDING THE NUMBER OF MISSING VALUES or NULL Values FOR EACH PARAMETER\n",
    "print(work.isnull().sum())"
   ]
  },
  {
   "cell_type": "code",
   "execution_count": 54,
   "metadata": {},
   "outputs": [
    {
     "name": "stdout",
     "output_type": "stream",
     "text": [
      "TITLE                    0\n",
      "URL                      0\n",
      "ID                       0\n",
      "AUTHOR                   0\n",
      "Num Comments             0\n",
      "Ups                      0\n",
      "Downs                    0\n",
      "Link Flair Text          0\n",
      "Link Flair Text Color    0\n",
      "Self                     0\n",
      "Upvote Ratio             0\n",
      "dtype: int64\n"
     ]
    }
   ],
   "source": [
    "work = work.dropna()  # DROPPING THE MISSING OR NULL VALUES FOR EACH PARAMETER\n",
    "print(work.isnull().sum()) \n",
    "#FINDING THE NUMBER OF NULL VALUES ONCE AGAIN AFTER REMOVING"
   ]
  },
  {
   "cell_type": "markdown",
   "metadata": {},
   "source": [
    "## 2.6- Sorting A Particular Column / Parameter\n",
    "This part deals only with the analysis of numerical variables from among the collected data. The ultimate AIM would be sorting any particular variable in ascending or descending order. This might bring \n",
    "out the subsequent increase or decrease in a particular data set corresponding to a particular partameter variable. We can also find various quantities like range using this as we know the max and min of the variable.The arrangement in a particular order is quite helpful in analysing the data. "
   ]
  },
  {
   "cell_type": "code",
   "execution_count": 56,
   "metadata": {},
   "outputs": [
    {
     "data": {
      "text/html": [
       "<div>\n",
       "<style scoped>\n",
       "    .dataframe tbody tr th:only-of-type {\n",
       "        vertical-align: middle;\n",
       "    }\n",
       "\n",
       "    .dataframe tbody tr th {\n",
       "        vertical-align: top;\n",
       "    }\n",
       "\n",
       "    .dataframe thead th {\n",
       "        text-align: right;\n",
       "    }\n",
       "</style>\n",
       "<table border=\"1\" class=\"dataframe\">\n",
       "  <thead>\n",
       "    <tr style=\"text-align: right;\">\n",
       "      <th></th>\n",
       "      <th>TITLE</th>\n",
       "      <th>URL</th>\n",
       "      <th>ID</th>\n",
       "      <th>AUTHOR</th>\n",
       "      <th>Num Comments</th>\n",
       "      <th>Ups</th>\n",
       "      <th>Downs</th>\n",
       "      <th>Link Flair Text</th>\n",
       "      <th>Link Flair Text Color</th>\n",
       "      <th>Self</th>\n",
       "      <th>Upvote Ratio</th>\n",
       "    </tr>\n",
       "  </thead>\n",
       "  <tbody>\n",
       "    <tr>\n",
       "      <th>0</th>\n",
       "      <td>Kashmiri terrorist got away 25 yrs ago, caught...</td>\n",
       "      <td>https://www.hindustantimes.com/india-news/kash...</td>\n",
       "      <td>g2yw0s</td>\n",
       "      <td>worriedpast</td>\n",
       "      <td>0</td>\n",
       "      <td>1</td>\n",
       "      <td>0</td>\n",
       "      <td>Non-Political</td>\n",
       "      <td>dark</td>\n",
       "      <td>False</td>\n",
       "      <td>1.00</td>\n",
       "    </tr>\n",
       "    <tr>\n",
       "      <th>28</th>\n",
       "      <td>COVID-19: Sree Chitra’s new test kit set to br...</td>\n",
       "      <td>https://www.reddit.com/r/india/comments/g2y0uu...</td>\n",
       "      <td>g2y0uu</td>\n",
       "      <td>Xenomorph007</td>\n",
       "      <td>0</td>\n",
       "      <td>9</td>\n",
       "      <td>0</td>\n",
       "      <td>Coronavirus</td>\n",
       "      <td>dark</td>\n",
       "      <td>True</td>\n",
       "      <td>1.00</td>\n",
       "    </tr>\n",
       "    <tr>\n",
       "      <th>30</th>\n",
       "      <td>CCMB to develop inactivated virus vaccine for ...</td>\n",
       "      <td>https://www.biospectrumindia.com/news/58/16251...</td>\n",
       "      <td>g2xuu7</td>\n",
       "      <td>Best-Economist</td>\n",
       "      <td>0</td>\n",
       "      <td>5</td>\n",
       "      <td>0</td>\n",
       "      <td>Science/Technology</td>\n",
       "      <td>light</td>\n",
       "      <td>False</td>\n",
       "      <td>1.00</td>\n",
       "    </tr>\n",
       "    <tr>\n",
       "      <th>32</th>\n",
       "      <td>RBI asks banks to suspend dividend payments: k...</td>\n",
       "      <td>https://timesofindia.indiatimes.com/business/i...</td>\n",
       "      <td>g2xma4</td>\n",
       "      <td>i_Killed_Reddit</td>\n",
       "      <td>0</td>\n",
       "      <td>5</td>\n",
       "      <td>0</td>\n",
       "      <td>Policy/Economy</td>\n",
       "      <td>dark</td>\n",
       "      <td>False</td>\n",
       "      <td>1.00</td>\n",
       "    </tr>\n",
       "    <tr>\n",
       "      <th>35</th>\n",
       "      <td>What nation can learn from Kerala: Lockdown is...</td>\n",
       "      <td>https://indianexpress.com/article/opinion/colu...</td>\n",
       "      <td>g2xj1s</td>\n",
       "      <td>vv4life</td>\n",
       "      <td>0</td>\n",
       "      <td>23</td>\n",
       "      <td>0</td>\n",
       "      <td>Coronavirus</td>\n",
       "      <td>dark</td>\n",
       "      <td>False</td>\n",
       "      <td>0.90</td>\n",
       "    </tr>\n",
       "    <tr>\n",
       "      <th>...</th>\n",
       "      <td>...</td>\n",
       "      <td>...</td>\n",
       "      <td>...</td>\n",
       "      <td>...</td>\n",
       "      <td>...</td>\n",
       "      <td>...</td>\n",
       "      <td>...</td>\n",
       "      <td>...</td>\n",
       "      <td>...</td>\n",
       "      <td>...</td>\n",
       "      <td>...</td>\n",
       "    </tr>\n",
       "    <tr>\n",
       "      <th>56</th>\n",
       "      <td>Performance of CM Uddhav in Maharashtra</td>\n",
       "      <td>https://www.reddit.com/r/india/comments/g2w8h1...</td>\n",
       "      <td>g2w8h1</td>\n",
       "      <td>PradyumanACP</td>\n",
       "      <td>24</td>\n",
       "      <td>29</td>\n",
       "      <td>0</td>\n",
       "      <td>Coronavirus</td>\n",
       "      <td>dark</td>\n",
       "      <td>True</td>\n",
       "      <td>0.87</td>\n",
       "    </tr>\n",
       "    <tr>\n",
       "      <th>66</th>\n",
       "      <td>Prime Time</td>\n",
       "      <td>https://i.redd.it/1jsn588fdbt41.jpg</td>\n",
       "      <td>g2vqkr</td>\n",
       "      <td>sudden_dust</td>\n",
       "      <td>29</td>\n",
       "      <td>278</td>\n",
       "      <td>0</td>\n",
       "      <td>Non-Political</td>\n",
       "      <td>dark</td>\n",
       "      <td>False</td>\n",
       "      <td>0.90</td>\n",
       "    </tr>\n",
       "    <tr>\n",
       "      <th>90</th>\n",
       "      <td>Rahul Gandhi Is Right On COVID-19 Strategy Eve...</td>\n",
       "      <td>https://www.outlookindia.com/website/story/new...</td>\n",
       "      <td>g2uies</td>\n",
       "      <td>wordswithmagic</td>\n",
       "      <td>34</td>\n",
       "      <td>115</td>\n",
       "      <td>0</td>\n",
       "      <td>Coronavirus</td>\n",
       "      <td>dark</td>\n",
       "      <td>False</td>\n",
       "      <td>0.82</td>\n",
       "    </tr>\n",
       "    <tr>\n",
       "      <th>47</th>\n",
       "      <td>A friend spewed anti-muslim hate speech on Fac...</td>\n",
       "      <td>https://www.reddit.com/r/india/comments/g2ws4w...</td>\n",
       "      <td>g2ws4w</td>\n",
       "      <td>abhilash1991</td>\n",
       "      <td>40</td>\n",
       "      <td>152</td>\n",
       "      <td>0</td>\n",
       "      <td>Coronavirus</td>\n",
       "      <td>dark</td>\n",
       "      <td>True</td>\n",
       "      <td>0.91</td>\n",
       "    </tr>\n",
       "    <tr>\n",
       "      <th>81</th>\n",
       "      <td>I just noticed that Youtube India has started ...</td>\n",
       "      <td>https://imgur.com/C2hDufa</td>\n",
       "      <td>g2v9c8</td>\n",
       "      <td>poco_gamer</td>\n",
       "      <td>46</td>\n",
       "      <td>224</td>\n",
       "      <td>0</td>\n",
       "      <td>Non-Political</td>\n",
       "      <td>dark</td>\n",
       "      <td>False</td>\n",
       "      <td>0.96</td>\n",
       "    </tr>\n",
       "  </tbody>\n",
       "</table>\n",
       "<p>90 rows × 11 columns</p>\n",
       "</div>"
      ],
      "text/plain": [
       "                                                TITLE  \\\n",
       "0   Kashmiri terrorist got away 25 yrs ago, caught...   \n",
       "28  COVID-19: Sree Chitra’s new test kit set to br...   \n",
       "30  CCMB to develop inactivated virus vaccine for ...   \n",
       "32  RBI asks banks to suspend dividend payments: k...   \n",
       "35  What nation can learn from Kerala: Lockdown is...   \n",
       "..                                                ...   \n",
       "56            Performance of CM Uddhav in Maharashtra   \n",
       "66                                         Prime Time   \n",
       "90  Rahul Gandhi Is Right On COVID-19 Strategy Eve...   \n",
       "47  A friend spewed anti-muslim hate speech on Fac...   \n",
       "81  I just noticed that Youtube India has started ...   \n",
       "\n",
       "                                                  URL      ID  \\\n",
       "0   https://www.hindustantimes.com/india-news/kash...  g2yw0s   \n",
       "28  https://www.reddit.com/r/india/comments/g2y0uu...  g2y0uu   \n",
       "30  https://www.biospectrumindia.com/news/58/16251...  g2xuu7   \n",
       "32  https://timesofindia.indiatimes.com/business/i...  g2xma4   \n",
       "35  https://indianexpress.com/article/opinion/colu...  g2xj1s   \n",
       "..                                                ...     ...   \n",
       "56  https://www.reddit.com/r/india/comments/g2w8h1...  g2w8h1   \n",
       "66                https://i.redd.it/1jsn588fdbt41.jpg  g2vqkr   \n",
       "90  https://www.outlookindia.com/website/story/new...  g2uies   \n",
       "47  https://www.reddit.com/r/india/comments/g2ws4w...  g2ws4w   \n",
       "81                          https://imgur.com/C2hDufa  g2v9c8   \n",
       "\n",
       "             AUTHOR  Num Comments  Ups  Downs     Link Flair Text  \\\n",
       "0       worriedpast             0    1      0       Non-Political   \n",
       "28     Xenomorph007             0    9      0         Coronavirus   \n",
       "30   Best-Economist             0    5      0  Science/Technology   \n",
       "32  i_Killed_Reddit             0    5      0      Policy/Economy   \n",
       "35          vv4life             0   23      0         Coronavirus   \n",
       "..              ...           ...  ...    ...                 ...   \n",
       "56     PradyumanACP            24   29      0         Coronavirus   \n",
       "66      sudden_dust            29  278      0       Non-Political   \n",
       "90   wordswithmagic            34  115      0         Coronavirus   \n",
       "47     abhilash1991            40  152      0         Coronavirus   \n",
       "81       poco_gamer            46  224      0       Non-Political   \n",
       "\n",
       "   Link Flair Text Color   Self  Upvote Ratio  \n",
       "0                   dark  False          1.00  \n",
       "28                  dark   True          1.00  \n",
       "30                 light  False          1.00  \n",
       "32                  dark  False          1.00  \n",
       "35                  dark  False          0.90  \n",
       "..                   ...    ...           ...  \n",
       "56                  dark   True          0.87  \n",
       "66                  dark  False          0.90  \n",
       "90                  dark  False          0.82  \n",
       "47                  dark   True          0.91  \n",
       "81                  dark  False          0.96  \n",
       "\n",
       "[90 rows x 11 columns]"
      ]
     },
     "execution_count": 56,
     "metadata": {},
     "output_type": "execute_result"
    }
   ],
   "source": [
    "workSort1=work.sort_values(by='Num Comments')\n",
    "workSort1\n",
    "#ARRANGE THE NUMBER OF COMMENTS IN ASCENDING ORDER"
   ]
  },
  {
   "cell_type": "code",
   "execution_count": 57,
   "metadata": {
    "scrolled": false
   },
   "outputs": [
    {
     "data": {
      "text/html": [
       "<div>\n",
       "<style scoped>\n",
       "    .dataframe tbody tr th:only-of-type {\n",
       "        vertical-align: middle;\n",
       "    }\n",
       "\n",
       "    .dataframe tbody tr th {\n",
       "        vertical-align: top;\n",
       "    }\n",
       "\n",
       "    .dataframe thead th {\n",
       "        text-align: right;\n",
       "    }\n",
       "</style>\n",
       "<table border=\"1\" class=\"dataframe\">\n",
       "  <thead>\n",
       "    <tr style=\"text-align: right;\">\n",
       "      <th></th>\n",
       "      <th>TITLE</th>\n",
       "      <th>URL</th>\n",
       "      <th>ID</th>\n",
       "      <th>AUTHOR</th>\n",
       "      <th>Num Comments</th>\n",
       "      <th>Ups</th>\n",
       "      <th>Downs</th>\n",
       "      <th>Link Flair Text</th>\n",
       "      <th>Link Flair Text Color</th>\n",
       "      <th>Self</th>\n",
       "      <th>Upvote Ratio</th>\n",
       "    </tr>\n",
       "  </thead>\n",
       "  <tbody>\n",
       "    <tr>\n",
       "      <th>66</th>\n",
       "      <td>Prime Time</td>\n",
       "      <td>https://i.redd.it/1jsn588fdbt41.jpg</td>\n",
       "      <td>g2vqkr</td>\n",
       "      <td>sudden_dust</td>\n",
       "      <td>29</td>\n",
       "      <td>278</td>\n",
       "      <td>0</td>\n",
       "      <td>Non-Political</td>\n",
       "      <td>dark</td>\n",
       "      <td>False</td>\n",
       "      <td>0.90</td>\n",
       "    </tr>\n",
       "    <tr>\n",
       "      <th>81</th>\n",
       "      <td>I just noticed that Youtube India has started ...</td>\n",
       "      <td>https://imgur.com/C2hDufa</td>\n",
       "      <td>g2v9c8</td>\n",
       "      <td>poco_gamer</td>\n",
       "      <td>46</td>\n",
       "      <td>224</td>\n",
       "      <td>0</td>\n",
       "      <td>Non-Political</td>\n",
       "      <td>dark</td>\n",
       "      <td>False</td>\n",
       "      <td>0.96</td>\n",
       "    </tr>\n",
       "    <tr>\n",
       "      <th>47</th>\n",
       "      <td>A friend spewed anti-muslim hate speech on Fac...</td>\n",
       "      <td>https://www.reddit.com/r/india/comments/g2ws4w...</td>\n",
       "      <td>g2ws4w</td>\n",
       "      <td>abhilash1991</td>\n",
       "      <td>40</td>\n",
       "      <td>152</td>\n",
       "      <td>0</td>\n",
       "      <td>Coronavirus</td>\n",
       "      <td>dark</td>\n",
       "      <td>True</td>\n",
       "      <td>0.91</td>\n",
       "    </tr>\n",
       "    <tr>\n",
       "      <th>89</th>\n",
       "      <td>Class 10 student ends life, writes suicide not...</td>\n",
       "      <td>https://www.timesnownews.com/mirror-now/crime/...</td>\n",
       "      <td>g2ulmq</td>\n",
       "      <td>Shellynoire</td>\n",
       "      <td>9</td>\n",
       "      <td>118</td>\n",
       "      <td>0</td>\n",
       "      <td>Non-Political</td>\n",
       "      <td>dark</td>\n",
       "      <td>False</td>\n",
       "      <td>0.97</td>\n",
       "    </tr>\n",
       "    <tr>\n",
       "      <th>90</th>\n",
       "      <td>Rahul Gandhi Is Right On COVID-19 Strategy Eve...</td>\n",
       "      <td>https://www.outlookindia.com/website/story/new...</td>\n",
       "      <td>g2uies</td>\n",
       "      <td>wordswithmagic</td>\n",
       "      <td>34</td>\n",
       "      <td>115</td>\n",
       "      <td>0</td>\n",
       "      <td>Coronavirus</td>\n",
       "      <td>dark</td>\n",
       "      <td>False</td>\n",
       "      <td>0.82</td>\n",
       "    </tr>\n",
       "    <tr>\n",
       "      <th>...</th>\n",
       "      <td>...</td>\n",
       "      <td>...</td>\n",
       "      <td>...</td>\n",
       "      <td>...</td>\n",
       "      <td>...</td>\n",
       "      <td>...</td>\n",
       "      <td>...</td>\n",
       "      <td>...</td>\n",
       "      <td>...</td>\n",
       "      <td>...</td>\n",
       "      <td>...</td>\n",
       "    </tr>\n",
       "    <tr>\n",
       "      <th>2</th>\n",
       "      <td>Coronavirus | its official no IPL this summer</td>\n",
       "      <td>https://newsnblogs.com/coronavirus-its-officia...</td>\n",
       "      <td>g2yv2l</td>\n",
       "      <td>KeeshaRuffing</td>\n",
       "      <td>0</td>\n",
       "      <td>1</td>\n",
       "      <td>0</td>\n",
       "      <td>Sports</td>\n",
       "      <td>dark</td>\n",
       "      <td>False</td>\n",
       "      <td>0.67</td>\n",
       "    </tr>\n",
       "    <tr>\n",
       "      <th>0</th>\n",
       "      <td>Kashmiri terrorist got away 25 yrs ago, caught...</td>\n",
       "      <td>https://www.hindustantimes.com/india-news/kash...</td>\n",
       "      <td>g2yw0s</td>\n",
       "      <td>worriedpast</td>\n",
       "      <td>0</td>\n",
       "      <td>1</td>\n",
       "      <td>0</td>\n",
       "      <td>Non-Political</td>\n",
       "      <td>dark</td>\n",
       "      <td>False</td>\n",
       "      <td>1.00</td>\n",
       "    </tr>\n",
       "    <tr>\n",
       "      <th>76</th>\n",
       "      <td>Paul Henry is back in a job on NZ channel 3, f...</td>\n",
       "      <td>https://twitter.com/NewshubBreaking/status/124...</td>\n",
       "      <td>g2vd90</td>\n",
       "      <td>theexate</td>\n",
       "      <td>1</td>\n",
       "      <td>0</td>\n",
       "      <td>0</td>\n",
       "      <td>Non-Political</td>\n",
       "      <td>dark</td>\n",
       "      <td>False</td>\n",
       "      <td>0.50</td>\n",
       "    </tr>\n",
       "    <tr>\n",
       "      <th>71</th>\n",
       "      <td>Beautiful lady Makes a Mushroom factory at home</td>\n",
       "      <td>https://www.youtube.com/watch?v=3BoolJ3sq-E</td>\n",
       "      <td>g2vltc</td>\n",
       "      <td>shwanmm</td>\n",
       "      <td>1</td>\n",
       "      <td>0</td>\n",
       "      <td>0</td>\n",
       "      <td>Business/Finance</td>\n",
       "      <td>dark</td>\n",
       "      <td>False</td>\n",
       "      <td>0.19</td>\n",
       "    </tr>\n",
       "    <tr>\n",
       "      <th>48</th>\n",
       "      <td>Prime time</td>\n",
       "      <td>https://i.redd.it/9uiu3durqbt41.jpg</td>\n",
       "      <td>g2wop6</td>\n",
       "      <td>laraib_sidd</td>\n",
       "      <td>6</td>\n",
       "      <td>0</td>\n",
       "      <td>0</td>\n",
       "      <td>Non-Political</td>\n",
       "      <td>dark</td>\n",
       "      <td>False</td>\n",
       "      <td>0.31</td>\n",
       "    </tr>\n",
       "  </tbody>\n",
       "</table>\n",
       "<p>90 rows × 11 columns</p>\n",
       "</div>"
      ],
      "text/plain": [
       "                                                TITLE  \\\n",
       "66                                         Prime Time   \n",
       "81  I just noticed that Youtube India has started ...   \n",
       "47  A friend spewed anti-muslim hate speech on Fac...   \n",
       "89  Class 10 student ends life, writes suicide not...   \n",
       "90  Rahul Gandhi Is Right On COVID-19 Strategy Eve...   \n",
       "..                                                ...   \n",
       "2       Coronavirus | its official no IPL this summer   \n",
       "0   Kashmiri terrorist got away 25 yrs ago, caught...   \n",
       "76  Paul Henry is back in a job on NZ channel 3, f...   \n",
       "71    Beautiful lady Makes a Mushroom factory at home   \n",
       "48                                         Prime time   \n",
       "\n",
       "                                                  URL      ID          AUTHOR  \\\n",
       "66                https://i.redd.it/1jsn588fdbt41.jpg  g2vqkr     sudden_dust   \n",
       "81                          https://imgur.com/C2hDufa  g2v9c8      poco_gamer   \n",
       "47  https://www.reddit.com/r/india/comments/g2ws4w...  g2ws4w    abhilash1991   \n",
       "89  https://www.timesnownews.com/mirror-now/crime/...  g2ulmq     Shellynoire   \n",
       "90  https://www.outlookindia.com/website/story/new...  g2uies  wordswithmagic   \n",
       "..                                                ...     ...             ...   \n",
       "2   https://newsnblogs.com/coronavirus-its-officia...  g2yv2l   KeeshaRuffing   \n",
       "0   https://www.hindustantimes.com/india-news/kash...  g2yw0s     worriedpast   \n",
       "76  https://twitter.com/NewshubBreaking/status/124...  g2vd90        theexate   \n",
       "71        https://www.youtube.com/watch?v=3BoolJ3sq-E  g2vltc         shwanmm   \n",
       "48                https://i.redd.it/9uiu3durqbt41.jpg  g2wop6     laraib_sidd   \n",
       "\n",
       "    Num Comments  Ups  Downs   Link Flair Text Link Flair Text Color   Self  \\\n",
       "66            29  278      0     Non-Political                  dark  False   \n",
       "81            46  224      0     Non-Political                  dark  False   \n",
       "47            40  152      0       Coronavirus                  dark   True   \n",
       "89             9  118      0     Non-Political                  dark  False   \n",
       "90            34  115      0       Coronavirus                  dark  False   \n",
       "..           ...  ...    ...               ...                   ...    ...   \n",
       "2              0    1      0            Sports                  dark  False   \n",
       "0              0    1      0     Non-Political                  dark  False   \n",
       "76             1    0      0     Non-Political                  dark  False   \n",
       "71             1    0      0  Business/Finance                  dark  False   \n",
       "48             6    0      0     Non-Political                  dark  False   \n",
       "\n",
       "    Upvote Ratio  \n",
       "66          0.90  \n",
       "81          0.96  \n",
       "47          0.91  \n",
       "89          0.97  \n",
       "90          0.82  \n",
       "..           ...  \n",
       "2           0.67  \n",
       "0           1.00  \n",
       "76          0.50  \n",
       "71          0.19  \n",
       "48          0.31  \n",
       "\n",
       "[90 rows x 11 columns]"
      ]
     },
     "execution_count": 57,
     "metadata": {},
     "output_type": "execute_result"
    }
   ],
   "source": [
    "\"\"\"Sorting in a particular order helps in analysing the data to our convenience and nature of purpose\"\"\"\n",
    "workSort2=work.sort_values(by='Ups', ascending= False)\n",
    "workSort2\n",
    "#ARRANGE THE NUMBER OF UP-VOTES IN A DESCENDING ORDER"
   ]
  },
  {
   "cell_type": "markdown",
   "metadata": {},
   "source": [
    "## 2.7- Finding the Maximum and Minimum Entries for Some Variable"
   ]
  },
  {
   "cell_type": "markdown",
   "metadata": {},
   "source": [
    "The values of all parameters corresponding to the highest and the lowest entry of the given input \n",
    "parameter are returned \n",
    "\n",
    "This use of this function thus brings out more comprehensive data ABOUT THE maxima and the minima"
   ]
  },
  {
   "cell_type": "code",
   "execution_count": 58,
   "metadata": {},
   "outputs": [],
   "source": [
    "def max_min(parameter):\n",
    "\n",
    "    \"\"\"This function takes a column name or a parameter as an input and it returns the MAX and MIN entries \n",
    "    corresponding to the input parameter\"\"\"\n",
    "    \n",
    "    max_=work[parameter].idxmax() #idxmax gives the id of the highest entry\n",
    "    max_obs=pd.DataFrame(work.loc[max_])\n",
    "    \n",
    "    min_=work[parameter].idxmin() #idxmin gives the id of the lowest entry\n",
    "    min_obs=pd.DataFrame(work.loc[min_])\n",
    "    \n",
    "    x=pd.concat([max_obs,min_obs],axis=1)# Both the ones are concatenated into a data frame\n",
    "\n",
    "    return x"
   ]
  },
  {
   "cell_type": "code",
   "execution_count": 59,
   "metadata": {},
   "outputs": [
    {
     "data": {
      "text/html": [
       "<div>\n",
       "<style scoped>\n",
       "    .dataframe tbody tr th:only-of-type {\n",
       "        vertical-align: middle;\n",
       "    }\n",
       "\n",
       "    .dataframe tbody tr th {\n",
       "        vertical-align: top;\n",
       "    }\n",
       "\n",
       "    .dataframe thead th {\n",
       "        text-align: right;\n",
       "    }\n",
       "</style>\n",
       "<table border=\"1\" class=\"dataframe\">\n",
       "  <thead>\n",
       "    <tr style=\"text-align: right;\">\n",
       "      <th></th>\n",
       "      <th>81</th>\n",
       "      <th>0</th>\n",
       "    </tr>\n",
       "  </thead>\n",
       "  <tbody>\n",
       "    <tr>\n",
       "      <th>TITLE</th>\n",
       "      <td>I just noticed that Youtube India has started ...</td>\n",
       "      <td>Kashmiri terrorist got away 25 yrs ago, caught...</td>\n",
       "    </tr>\n",
       "    <tr>\n",
       "      <th>URL</th>\n",
       "      <td>https://imgur.com/C2hDufa</td>\n",
       "      <td>https://www.hindustantimes.com/india-news/kash...</td>\n",
       "    </tr>\n",
       "    <tr>\n",
       "      <th>ID</th>\n",
       "      <td>g2v9c8</td>\n",
       "      <td>g2yw0s</td>\n",
       "    </tr>\n",
       "    <tr>\n",
       "      <th>AUTHOR</th>\n",
       "      <td>poco_gamer</td>\n",
       "      <td>worriedpast</td>\n",
       "    </tr>\n",
       "    <tr>\n",
       "      <th>Num Comments</th>\n",
       "      <td>46</td>\n",
       "      <td>0</td>\n",
       "    </tr>\n",
       "    <tr>\n",
       "      <th>Ups</th>\n",
       "      <td>224</td>\n",
       "      <td>1</td>\n",
       "    </tr>\n",
       "    <tr>\n",
       "      <th>Downs</th>\n",
       "      <td>0</td>\n",
       "      <td>0</td>\n",
       "    </tr>\n",
       "    <tr>\n",
       "      <th>Link Flair Text</th>\n",
       "      <td>Non-Political</td>\n",
       "      <td>Non-Political</td>\n",
       "    </tr>\n",
       "    <tr>\n",
       "      <th>Link Flair Text Color</th>\n",
       "      <td>dark</td>\n",
       "      <td>dark</td>\n",
       "    </tr>\n",
       "    <tr>\n",
       "      <th>Self</th>\n",
       "      <td>False</td>\n",
       "      <td>False</td>\n",
       "    </tr>\n",
       "    <tr>\n",
       "      <th>Upvote Ratio</th>\n",
       "      <td>0.96</td>\n",
       "      <td>1</td>\n",
       "    </tr>\n",
       "  </tbody>\n",
       "</table>\n",
       "</div>"
      ],
      "text/plain": [
       "                                                                      81  \\\n",
       "TITLE                  I just noticed that Youtube India has started ...   \n",
       "URL                                            https://imgur.com/C2hDufa   \n",
       "ID                                                                g2v9c8   \n",
       "AUTHOR                                                        poco_gamer   \n",
       "Num Comments                                                          46   \n",
       "Ups                                                                  224   \n",
       "Downs                                                                  0   \n",
       "Link Flair Text                                            Non-Political   \n",
       "Link Flair Text Color                                               dark   \n",
       "Self                                                               False   \n",
       "Upvote Ratio                                                        0.96   \n",
       "\n",
       "                                                                      0   \n",
       "TITLE                  Kashmiri terrorist got away 25 yrs ago, caught...  \n",
       "URL                    https://www.hindustantimes.com/india-news/kash...  \n",
       "ID                                                                g2yw0s  \n",
       "AUTHOR                                                       worriedpast  \n",
       "Num Comments                                                           0  \n",
       "Ups                                                                    1  \n",
       "Downs                                                                  0  \n",
       "Link Flair Text                                            Non-Political  \n",
       "Link Flair Text Color                                               dark  \n",
       "Self                                                               False  \n",
       "Upvote Ratio                                                           1  "
      ]
     },
     "execution_count": 59,
     "metadata": {},
     "output_type": "execute_result"
    }
   ],
   "source": [
    "max_min('Num Comments')\n",
    "#We can do this for any numerical parameter or variable"
   ]
  },
  {
   "cell_type": "markdown",
   "metadata": {},
   "source": [
    "## 2.8- Visual Representation "
   ]
  },
  {
   "cell_type": "markdown",
   "metadata": {},
   "source": [
    "### 2.8.1- Bar Graph"
   ]
  },
  {
   "cell_type": "markdown",
   "metadata": {},
   "source": [
    "The following Bar Graph shows a distribution of number of posts in the data base from each Flair category. This bar graph is one of the most useful representations as it clearly shows which agendas or topics are most in news i.e. are most discussed. For a common man this graph would clearly and aptly shift his inclination towards the hotter topics, thereby aquainting him to the things going on in the country."
   ]
  },
  {
   "cell_type": "code",
   "execution_count": 84,
   "metadata": {
    "scrolled": false
   },
   "outputs": [
    {
     "data": {
      "image/png": "[encoded data removed]",
      "text/plain": [
       "<Figure size 720x360 with 1 Axes>"
      ]
     },
     "metadata": {
      "needs_background": "light"
     },
     "output_type": "display_data"
    }
   ],
   "source": [
    "work['Link Flair Text'].value_counts().nlargest(30).plot(kind='bar', figsize=(10,5))\n",
    "plt.title(\"Number of posts corresponding to each Flair\")\n",
    "plt.ylabel('Number of posts')\n",
    "plt.xlabel('Flair');"
   ]
  },
  {
   "cell_type": "markdown",
   "metadata": {},
   "source": [
    "### 2.8.1.1 A Tabular Representation of the same Data"
   ]
  },
  {
   "cell_type": "code",
   "execution_count": 99,
   "metadata": {},
   "outputs": [],
   "source": [
    "table=work.groupby('Link Flair Text').size()\n",
    "#This tabular represntation is also helpful in analysing the scrapped data"
   ]
  },
  {
   "cell_type": "markdown",
   "metadata": {},
   "source": [
    "### 2.8.2- Pie Chart"
   ]
  },
  {
   "cell_type": "markdown",
   "metadata": {},
   "source": [
    "The following Pie Graph shows a distribution of number of posts in the data base which are self post and the ones which are shared.\n",
    "1. True- Self Posts\n",
    "2. False- Shared posts\n",
    "\n",
    "This Graph brings out the craze among the people for various posts that they share it ."
   ]
  },
  {
   "cell_type": "code",
   "execution_count": 88,
   "metadata": {},
   "outputs": [
    {
     "data": {
      "text/plain": [
       "<matplotlib.axes._subplots.AxesSubplot at 0x1a24220080>"
      ]
     },
     "execution_count": 88,
     "metadata": {},
     "output_type": "execute_result"
    },
    {
     "data": {
      "image/png": "[encoded data removed]",
      "text/plain": [
       "<Figure size 576x576 with 1 Axes>"
      ]
     },
     "metadata": {},
     "output_type": "display_data"
    }
   ],
   "source": [
    "work['Self'].value_counts().nlargest(40).plot(kind='pie', figsize=(8,8))"
   ]
  },
  {
   "cell_type": "markdown",
   "metadata": {},
   "source": [
    "### 2.8.3 - Probability Density Function"
   ]
  },
  {
   "cell_type": "markdown",
   "metadata": {},
   "source": [
    "1. Area under a PDF function graph is always 1.\n",
    "2. The given Probability Density Function shows the density of the Upvote Ratio.\n",
    "3. It provides a clear understanding of the range of the upvote ratio .\n",
    "4. It clearly shows that the Up-Vote ratio is usually high enough and close to 1\n",
    "5. This implies that people take interest in the recent posts."
   ]
  },
  {
   "cell_type": "code",
   "execution_count": 101,
   "metadata": {},
   "outputs": [
    {
     "data": {
      "text/plain": [
       "<matplotlib.axes._subplots.AxesSubplot at 0x1a243865f8>"
      ]
     },
     "execution_count": 101,
     "metadata": {},
     "output_type": "execute_result"
    },
    {
     "data": {
      "image/png": "[encoded data removed]",
      "text/plain": [
       "<Figure size 432x288 with 1 Axes>"
      ]
     },
     "metadata": {
      "needs_background": "light"
     },
     "output_type": "display_data"
    }
   ],
   "source": [
    "sns.distplot(work['Upvote Ratio'],10)"
   ]
  },
  {
   "cell_type": "markdown",
   "metadata": {},
   "source": [
    "### 2.8.4- Histograms"
   ]
  },
  {
   "cell_type": "markdown",
   "metadata": {},
   "source": [
    "The histograms below are a representation of all the numerical variables/parameters :-"
   ]
  },
  {
   "cell_type": "code",
   "execution_count": 103,
   "metadata": {},
   "outputs": [
    {
     "data": {
      "text/html": [
       "<div>\n",
       "<style scoped>\n",
       "    .dataframe tbody tr th:only-of-type {\n",
       "        vertical-align: middle;\n",
       "    }\n",
       "\n",
       "    .dataframe tbody tr th {\n",
       "        vertical-align: top;\n",
       "    }\n",
       "\n",
       "    .dataframe thead th {\n",
       "        text-align: right;\n",
       "    }\n",
       "</style>\n",
       "<table border=\"1\" class=\"dataframe\">\n",
       "  <thead>\n",
       "    <tr style=\"text-align: right;\">\n",
       "      <th></th>\n",
       "      <th>Num Comments</th>\n",
       "      <th>Ups</th>\n",
       "      <th>Downs</th>\n",
       "      <th>Upvote Ratio</th>\n",
       "    </tr>\n",
       "  </thead>\n",
       "  <tbody>\n",
       "    <tr>\n",
       "      <th>0</th>\n",
       "      <td>0</td>\n",
       "      <td>1</td>\n",
       "      <td>0</td>\n",
       "      <td>1.00</td>\n",
       "    </tr>\n",
       "    <tr>\n",
       "      <th>1</th>\n",
       "      <td>0</td>\n",
       "      <td>3</td>\n",
       "      <td>0</td>\n",
       "      <td>1.00</td>\n",
       "    </tr>\n",
       "    <tr>\n",
       "      <th>2</th>\n",
       "      <td>0</td>\n",
       "      <td>1</td>\n",
       "      <td>0</td>\n",
       "      <td>0.67</td>\n",
       "    </tr>\n",
       "    <tr>\n",
       "      <th>3</th>\n",
       "      <td>0</td>\n",
       "      <td>4</td>\n",
       "      <td>0</td>\n",
       "      <td>1.00</td>\n",
       "    </tr>\n",
       "    <tr>\n",
       "      <th>4</th>\n",
       "      <td>0</td>\n",
       "      <td>2</td>\n",
       "      <td>0</td>\n",
       "      <td>1.00</td>\n",
       "    </tr>\n",
       "    <tr>\n",
       "      <th>...</th>\n",
       "      <td>...</td>\n",
       "      <td>...</td>\n",
       "      <td>...</td>\n",
       "      <td>...</td>\n",
       "    </tr>\n",
       "    <tr>\n",
       "      <th>95</th>\n",
       "      <td>16</td>\n",
       "      <td>6</td>\n",
       "      <td>0</td>\n",
       "      <td>0.82</td>\n",
       "    </tr>\n",
       "    <tr>\n",
       "      <th>96</th>\n",
       "      <td>3</td>\n",
       "      <td>45</td>\n",
       "      <td>0</td>\n",
       "      <td>0.89</td>\n",
       "    </tr>\n",
       "    <tr>\n",
       "      <th>97</th>\n",
       "      <td>1</td>\n",
       "      <td>15</td>\n",
       "      <td>0</td>\n",
       "      <td>0.86</td>\n",
       "    </tr>\n",
       "    <tr>\n",
       "      <th>98</th>\n",
       "      <td>2</td>\n",
       "      <td>11</td>\n",
       "      <td>0</td>\n",
       "      <td>0.92</td>\n",
       "    </tr>\n",
       "    <tr>\n",
       "      <th>99</th>\n",
       "      <td>0</td>\n",
       "      <td>8</td>\n",
       "      <td>0</td>\n",
       "      <td>0.84</td>\n",
       "    </tr>\n",
       "  </tbody>\n",
       "</table>\n",
       "<p>90 rows × 4 columns</p>\n",
       "</div>"
      ],
      "text/plain": [
       "    Num Comments  Ups  Downs  Upvote Ratio\n",
       "0              0    1      0          1.00\n",
       "1              0    3      0          1.00\n",
       "2              0    1      0          0.67\n",
       "3              0    4      0          1.00\n",
       "4              0    2      0          1.00\n",
       "..           ...  ...    ...           ...\n",
       "95            16    6      0          0.82\n",
       "96             3   45      0          0.89\n",
       "97             1   15      0          0.86\n",
       "98             2   11      0          0.92\n",
       "99             0    8      0          0.84\n",
       "\n",
       "[90 rows x 4 columns]"
      ]
     },
     "execution_count": 103,
     "metadata": {},
     "output_type": "execute_result"
    }
   ],
   "source": [
    "#SELECTING ONLY THE NUMERICAL VARIABLES as we can plot a histogram for only the numerical paramters :- \n",
    "workNum=work.select_dtypes(include=['int64','float64'])\n",
    "workNum"
   ]
  },
  {
   "cell_type": "code",
   "execution_count": 106,
   "metadata": {},
   "outputs": [
    {
     "data": {
      "text/plain": [
       "array([[<matplotlib.axes._subplots.AxesSubplot object at 0x1a243ba128>,\n",
       "        <matplotlib.axes._subplots.AxesSubplot object at 0x1a23f8fe10>],\n",
       "       [<matplotlib.axes._subplots.AxesSubplot object at 0x1a24335f98>,\n",
       "        <matplotlib.axes._subplots.AxesSubplot object at 0x1a243169b0>]],\n",
       "      dtype=object)"
      ]
     },
     "execution_count": 106,
     "metadata": {},
     "output_type": "execute_result"
    },
    {
     "data": {
      "image/png": "[encoded data removed]",
      "text/plain": [
       "<Figure size 720x720 with 4 Axes>"
      ]
     },
     "metadata": {
      "needs_background": "light"
     },
     "output_type": "display_data"
    }
   ],
   "source": [
    "\"\"\"These histograms plot the values of the parameters against the number of entries having those values. \n",
    "The sum total of these  values is the same for all the graphs as we have removed the null entries already \"\"\"\n",
    "workNum.hist(bins=20,figsize=(10,10))"
   ]
  },
  {
   "cell_type": "markdown",
   "metadata": {},
   "source": [
    "### 2.8.5- Correlation Scatter Plots\n",
    "These Plots will show correlation between Num Comments and all other numercial paramters.\n",
    "This help a great deal in finding how different parameters are correlated"
   ]
  },
  {
   "cell_type": "code",
   "execution_count": 110,
   "metadata": {},
   "outputs": [
    {
     "data": {
      "text/plain": [
       "Num Comments    1.000000\n",
       "Ups             0.762031\n",
       "Downs                NaN\n",
       "Upvote Ratio    0.066227\n",
       "Name: Num Comments, dtype: float64"
      ]
     },
     "execution_count": 110,
     "metadata": {},
     "output_type": "execute_result"
    }
   ],
   "source": [
    "workNum_correlation=workNum.corr()['Num Comments']\n",
    "workNum_correlation\n",
    "#CORRELATION COEFFICIENTS IN A TABULAR FORM"
   ]
  },
  {
   "cell_type": "code",
   "execution_count": 113,
   "metadata": {},
   "outputs": [
    {
     "data": {
      "image/png": "[encoded data removed]",
      "text/plain": [
       "<Figure size 180x180 with 1 Axes>"
      ]
     },
     "metadata": {
      "needs_background": "light"
     },
     "output_type": "display_data"
    },
    {
     "data": {
      "image/png": "[encoded data removed]",
      "text/plain": [
       "<Figure size 180x180 with 1 Axes>"
      ]
     },
     "metadata": {
      "needs_background": "light"
     },
     "output_type": "display_data"
    },
    {
     "data": {
      "image/png": "[encoded data removed]",
      "text/plain": [
       "<Figure size 180x180 with 1 Axes>"
      ]
     },
     "metadata": {
      "needs_background": "light"
     },
     "output_type": "display_data"
    }
   ],
   "source": [
    "for i in range(1,len(workNum.columns)):\n",
    "    sns.pairplot(workNum,y_vars=['Num Comments'],x_vars=workNum.columns[i])\n",
    "    # CORRELATION BETWEEN DIFFERENT PARAMETERS"
   ]
  },
  {
   "cell_type": "markdown",
   "metadata": {},
   "source": [
    "### 2.8.6 Heat Maps"
   ]
  },
  {
   "cell_type": "markdown",
   "metadata": {},
   "source": [
    "The below heat map shows Significant Correlation of the upvote ratio and other parameters."
   ]
  },
  {
   "cell_type": "code",
   "execution_count": 116,
   "metadata": {
    "scrolled": true
   },
   "outputs": [
    {
     "data": {
      "text/plain": [
       "<matplotlib.axes._subplots.AxesSubplot at 0x1a25f367f0>"
      ]
     },
     "execution_count": 116,
     "metadata": {},
     "output_type": "execute_result"
    },
    {
     "data": {
      "image/png": "[encoded data removed]",
      "text/plain": [
       "<Figure size 432x288 with 2 Axes>"
      ]
     },
     "metadata": {
      "needs_background": "light"
     },
     "output_type": "display_data"
    }
   ],
   "source": [
    "sig_corr=workNum.drop('Upvote Ratio',axis=1).corr()\n",
    "sns.heatmap(sig_corr[(sig_corr>=0.5)|(sig_corr<=-0.4)],square=True,annot=True)"
   ]
  },
  {
   "cell_type": "markdown",
   "metadata": {},
   "source": [
    "### 2.8.7 Box Plots"
   ]
  },
  {
   "cell_type": "code",
   "execution_count": 121,
   "metadata": {},
   "outputs": [
    {
     "data": {
      "image/png": "[encoded data removed]",
      "text/plain": [
       "<Figure size 432x288 with 1 Axes>"
      ]
     },
     "metadata": {
      "needs_background": "light"
     },
     "output_type": "display_data"
    }
   ],
   "source": [
    "    box1= sns.boxplot(x='Ups',y='Link Flair Text',data=work)"
   ]
  }
 ],
 "metadata": {
  "kernelspec": {
   "display_name": "Python 3",
   "language": "python",
   "name": "python3"
  },
  "language_info": {
   "codemirror_mode": {
    "name": "ipython",
    "version": 3
   },
   "file_extension": ".py",
   "mimetype": "text/x-python",
   "name": "python",
   "nbconvert_exporter": "python",
   "pygments_lexer": "ipython3",
   "version": "3.8.5"
  }
 },
 "nbformat": 4,
 "nbformat_minor": 2
}
